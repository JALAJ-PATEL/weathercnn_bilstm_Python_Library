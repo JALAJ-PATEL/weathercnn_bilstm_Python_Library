{
 "cells": [
  {
   "cell_type": "markdown",
   "id": "a678e76a",
   "metadata": {},
   "source": [
    "# Weather Temperature Prediction with CNN-BiLSTM\n",
    "\n",
    "This notebook demonstrates a hybrid deep learning approach combining Convolutional Neural Networks (CNN) with Bidirectional Long Short-Term Memory (BiLSTM) networks to predict temperature based on historical weather data.\n",
    "\n",
    "## 📦 Step 1: Imports and Dataset Loading"
   ]
  },
  {
   "cell_type": "code",
   "execution_count": 1,
   "id": "2c3db250",
   "metadata": {},
   "outputs": [
    {
     "data": {
      "text/html": [
       "<div>\n",
       "<style scoped>\n",
       "    .dataframe tbody tr th:only-of-type {\n",
       "        vertical-align: middle;\n",
       "    }\n",
       "\n",
       "    .dataframe tbody tr th {\n",
       "        vertical-align: top;\n",
       "    }\n",
       "\n",
       "    .dataframe thead th {\n",
       "        text-align: right;\n",
       "    }\n",
       "</style>\n",
       "<table border=\"1\" class=\"dataframe\">\n",
       "  <thead>\n",
       "    <tr style=\"text-align: right;\">\n",
       "      <th></th>\n",
       "      <th>Formatted Date</th>\n",
       "      <th>Summary</th>\n",
       "      <th>Precip Type</th>\n",
       "      <th>Temperature (C)</th>\n",
       "      <th>Apparent Temperature (C)</th>\n",
       "      <th>Humidity</th>\n",
       "      <th>Wind Speed (km/h)</th>\n",
       "      <th>Wind Bearing (degrees)</th>\n",
       "      <th>Visibility (km)</th>\n",
       "      <th>Loud Cover</th>\n",
       "      <th>Pressure (millibars)</th>\n",
       "      <th>Daily Summary</th>\n",
       "    </tr>\n",
       "  </thead>\n",
       "  <tbody>\n",
       "    <tr>\n",
       "      <th>0</th>\n",
       "      <td>2006-04-01 00:00:00.000 +0200</td>\n",
       "      <td>Partly Cloudy</td>\n",
       "      <td>rain</td>\n",
       "      <td>9.472222</td>\n",
       "      <td>7.388889</td>\n",
       "      <td>0.89</td>\n",
       "      <td>14.1197</td>\n",
       "      <td>251</td>\n",
       "      <td>15.8263</td>\n",
       "      <td>0</td>\n",
       "      <td>1015.13</td>\n",
       "      <td>Partly cloudy throughout the day.</td>\n",
       "    </tr>\n",
       "    <tr>\n",
       "      <th>1</th>\n",
       "      <td>2006-04-01 01:00:00.000 +0200</td>\n",
       "      <td>Partly Cloudy</td>\n",
       "      <td>rain</td>\n",
       "      <td>9.355556</td>\n",
       "      <td>7.227778</td>\n",
       "      <td>0.86</td>\n",
       "      <td>14.2646</td>\n",
       "      <td>259</td>\n",
       "      <td>15.8263</td>\n",
       "      <td>0</td>\n",
       "      <td>1015.63</td>\n",
       "      <td>Partly cloudy throughout the day.</td>\n",
       "    </tr>\n",
       "    <tr>\n",
       "      <th>2</th>\n",
       "      <td>2006-04-01 02:00:00.000 +0200</td>\n",
       "      <td>Mostly Cloudy</td>\n",
       "      <td>rain</td>\n",
       "      <td>9.377778</td>\n",
       "      <td>9.377778</td>\n",
       "      <td>0.89</td>\n",
       "      <td>3.9284</td>\n",
       "      <td>204</td>\n",
       "      <td>14.9569</td>\n",
       "      <td>0</td>\n",
       "      <td>1015.94</td>\n",
       "      <td>Partly cloudy throughout the day.</td>\n",
       "    </tr>\n",
       "    <tr>\n",
       "      <th>3</th>\n",
       "      <td>2006-04-01 03:00:00.000 +0200</td>\n",
       "      <td>Partly Cloudy</td>\n",
       "      <td>rain</td>\n",
       "      <td>8.288889</td>\n",
       "      <td>5.944444</td>\n",
       "      <td>0.83</td>\n",
       "      <td>14.1036</td>\n",
       "      <td>269</td>\n",
       "      <td>15.8263</td>\n",
       "      <td>0</td>\n",
       "      <td>1016.41</td>\n",
       "      <td>Partly cloudy throughout the day.</td>\n",
       "    </tr>\n",
       "    <tr>\n",
       "      <th>4</th>\n",
       "      <td>2006-04-01 04:00:00.000 +0200</td>\n",
       "      <td>Mostly Cloudy</td>\n",
       "      <td>rain</td>\n",
       "      <td>8.755556</td>\n",
       "      <td>6.977778</td>\n",
       "      <td>0.83</td>\n",
       "      <td>11.0446</td>\n",
       "      <td>259</td>\n",
       "      <td>15.8263</td>\n",
       "      <td>0</td>\n",
       "      <td>1016.51</td>\n",
       "      <td>Partly cloudy throughout the day.</td>\n",
       "    </tr>\n",
       "  </tbody>\n",
       "</table>\n",
       "</div>"
      ],
      "text/plain": [
       "                  Formatted Date        Summary Precip Type  Temperature (C)  \\\n",
       "0  2006-04-01 00:00:00.000 +0200  Partly Cloudy        rain         9.472222   \n",
       "1  2006-04-01 01:00:00.000 +0200  Partly Cloudy        rain         9.355556   \n",
       "2  2006-04-01 02:00:00.000 +0200  Mostly Cloudy        rain         9.377778   \n",
       "3  2006-04-01 03:00:00.000 +0200  Partly Cloudy        rain         8.288889   \n",
       "4  2006-04-01 04:00:00.000 +0200  Mostly Cloudy        rain         8.755556   \n",
       "\n",
       "   Apparent Temperature (C)  Humidity  Wind Speed (km/h)  \\\n",
       "0                  7.388889      0.89            14.1197   \n",
       "1                  7.227778      0.86            14.2646   \n",
       "2                  9.377778      0.89             3.9284   \n",
       "3                  5.944444      0.83            14.1036   \n",
       "4                  6.977778      0.83            11.0446   \n",
       "\n",
       "   Wind Bearing (degrees)  Visibility (km)  Loud Cover  Pressure (millibars)  \\\n",
       "0                     251          15.8263           0               1015.13   \n",
       "1                     259          15.8263           0               1015.63   \n",
       "2                     204          14.9569           0               1015.94   \n",
       "3                     269          15.8263           0               1016.41   \n",
       "4                     259          15.8263           0               1016.51   \n",
       "\n",
       "                       Daily Summary  \n",
       "0  Partly cloudy throughout the day.  \n",
       "1  Partly cloudy throughout the day.  \n",
       "2  Partly cloudy throughout the day.  \n",
       "3  Partly cloudy throughout the day.  \n",
       "4  Partly cloudy throughout the day.  "
      ]
     },
     "execution_count": 1,
     "metadata": {},
     "output_type": "execute_result"
    }
   ],
   "source": [
    "# Basic libraries\n",
    "import numpy as np\n",
    "import pandas as pd\n",
    "import matplotlib.pyplot as plt\n",
    "import seaborn as sns\n",
    "import datetime as dt\n",
    "\n",
    "# Deep learning\n",
    "import tensorflow as tf\n",
    "from tensorflow.keras.models import Sequential, load_model\n",
    "from tensorflow.keras.layers import Conv1D, MaxPooling1D, Bidirectional, LSTM, Dense, Dropout\n",
    "from tensorflow.keras.callbacks import EarlyStopping\n",
    "\n",
    "# Data preprocessing\n",
    "from sklearn.preprocessing import MinMaxScaler\n",
    "from sklearn.model_selection import train_test_split\n",
    "from sklearn.metrics import mean_squared_error, mean_absolute_error\n",
    "\n",
    "# Suppress TensorFlow logging except for errors\n",
    "tf.get_logger().setLevel('ERROR')\n",
    "\n",
    "# Load the dataset\n",
    "path = r\"Weather-Data.csv\"\n",
    "df = pd.read_csv(path)\n",
    "\n",
    "# Display first few rows\n",
    "df.head()"
   ]
  },
  {
   "cell_type": "markdown",
   "id": "9a200918",
   "metadata": {},
   "source": [
    "## 🧹 Step 2: Data Cleaning & Feature Engineering\n",
    "\n",
    "In this step, we'll clean the data and extract useful features from the datetime information."
   ]
  },
  {
   "cell_type": "code",
   "execution_count": 2,
   "id": "5efb3335",
   "metadata": {},
   "outputs": [
    {
     "name": "stdout",
     "output_type": "stream",
     "text": [
      "Missing values:\n",
      " Series([], dtype: int64)\n"
     ]
    },
    {
     "data": {
      "text/html": [
       "<div>\n",
       "<style scoped>\n",
       "    .dataframe tbody tr th:only-of-type {\n",
       "        vertical-align: middle;\n",
       "    }\n",
       "\n",
       "    .dataframe tbody tr th {\n",
       "        vertical-align: top;\n",
       "    }\n",
       "\n",
       "    .dataframe thead th {\n",
       "        text-align: right;\n",
       "    }\n",
       "</style>\n",
       "<table border=\"1\" class=\"dataframe\">\n",
       "  <thead>\n",
       "    <tr style=\"text-align: right;\">\n",
       "      <th></th>\n",
       "      <th>Temperature (C)</th>\n",
       "      <th>Apparent Temperature (C)</th>\n",
       "      <th>Humidity</th>\n",
       "      <th>Wind Speed (km/h)</th>\n",
       "      <th>Wind Bearing (degrees)</th>\n",
       "      <th>Visibility (km)</th>\n",
       "      <th>Pressure (millibars)</th>\n",
       "      <th>Year</th>\n",
       "      <th>Month</th>\n",
       "      <th>Day</th>\n",
       "      <th>Hour</th>\n",
       "    </tr>\n",
       "  </thead>\n",
       "  <tbody>\n",
       "    <tr>\n",
       "      <th>0</th>\n",
       "      <td>9.472222</td>\n",
       "      <td>7.388889</td>\n",
       "      <td>0.89</td>\n",
       "      <td>14.1197</td>\n",
       "      <td>251</td>\n",
       "      <td>15.8263</td>\n",
       "      <td>1015.13</td>\n",
       "      <td>2006</td>\n",
       "      <td>3</td>\n",
       "      <td>31</td>\n",
       "      <td>22</td>\n",
       "    </tr>\n",
       "    <tr>\n",
       "      <th>1</th>\n",
       "      <td>9.355556</td>\n",
       "      <td>7.227778</td>\n",
       "      <td>0.86</td>\n",
       "      <td>14.2646</td>\n",
       "      <td>259</td>\n",
       "      <td>15.8263</td>\n",
       "      <td>1015.63</td>\n",
       "      <td>2006</td>\n",
       "      <td>3</td>\n",
       "      <td>31</td>\n",
       "      <td>23</td>\n",
       "    </tr>\n",
       "    <tr>\n",
       "      <th>2</th>\n",
       "      <td>9.377778</td>\n",
       "      <td>9.377778</td>\n",
       "      <td>0.89</td>\n",
       "      <td>3.9284</td>\n",
       "      <td>204</td>\n",
       "      <td>14.9569</td>\n",
       "      <td>1015.94</td>\n",
       "      <td>2006</td>\n",
       "      <td>4</td>\n",
       "      <td>1</td>\n",
       "      <td>0</td>\n",
       "    </tr>\n",
       "    <tr>\n",
       "      <th>3</th>\n",
       "      <td>8.288889</td>\n",
       "      <td>5.944444</td>\n",
       "      <td>0.83</td>\n",
       "      <td>14.1036</td>\n",
       "      <td>269</td>\n",
       "      <td>15.8263</td>\n",
       "      <td>1016.41</td>\n",
       "      <td>2006</td>\n",
       "      <td>4</td>\n",
       "      <td>1</td>\n",
       "      <td>1</td>\n",
       "    </tr>\n",
       "    <tr>\n",
       "      <th>4</th>\n",
       "      <td>8.755556</td>\n",
       "      <td>6.977778</td>\n",
       "      <td>0.83</td>\n",
       "      <td>11.0446</td>\n",
       "      <td>259</td>\n",
       "      <td>15.8263</td>\n",
       "      <td>1016.51</td>\n",
       "      <td>2006</td>\n",
       "      <td>4</td>\n",
       "      <td>1</td>\n",
       "      <td>2</td>\n",
       "    </tr>\n",
       "  </tbody>\n",
       "</table>\n",
       "</div>"
      ],
      "text/plain": [
       "   Temperature (C)  Apparent Temperature (C)  Humidity  Wind Speed (km/h)  \\\n",
       "0         9.472222                  7.388889      0.89            14.1197   \n",
       "1         9.355556                  7.227778      0.86            14.2646   \n",
       "2         9.377778                  9.377778      0.89             3.9284   \n",
       "3         8.288889                  5.944444      0.83            14.1036   \n",
       "4         8.755556                  6.977778      0.83            11.0446   \n",
       "\n",
       "   Wind Bearing (degrees)  Visibility (km)  Pressure (millibars)  Year  Month  \\\n",
       "0                     251          15.8263               1015.13  2006      3   \n",
       "1                     259          15.8263               1015.63  2006      3   \n",
       "2                     204          14.9569               1015.94  2006      4   \n",
       "3                     269          15.8263               1016.41  2006      4   \n",
       "4                     259          15.8263               1016.51  2006      4   \n",
       "\n",
       "   Day  Hour  \n",
       "0   31    22  \n",
       "1   31    23  \n",
       "2    1     0  \n",
       "3    1     1  \n",
       "4    1     2  "
      ]
     },
     "execution_count": 2,
     "metadata": {},
     "output_type": "execute_result"
    }
   ],
   "source": [
    "# Parse the 'Formatted Date' column to datetime\n",
    "df['Formatted Date'] = pd.to_datetime(df['Formatted Date'], utc=True)\n",
    "\n",
    "# Extract datetime components for modeling\n",
    "df['Year'] = df['Formatted Date'].dt.year\n",
    "df['Month'] = df['Formatted Date'].dt.month\n",
    "df['Day'] = df['Formatted Date'].dt.day\n",
    "df['Hour'] = df['Formatted Date'].dt.hour\n",
    "\n",
    "# Drop columns that are textual or not useful for modeling\n",
    "columns_to_drop = ['Summary', 'Precip Type', 'Daily Summary', 'Loud Cover']\n",
    "df.drop(columns=[col for col in columns_to_drop if col in df.columns], inplace=True)\n",
    "\n",
    "# Check for missing values\n",
    "missing_values = df.isnull().sum()\n",
    "print(\"Missing values:\\n\", missing_values[missing_values > 0])\n",
    "\n",
    "# Fill or drop missing values (if any)\n",
    "df.dropna(inplace=True)\n",
    "\n",
    "# Important: Make sure to drop the datetime column before scaling\n",
    "df.drop(columns=['Formatted Date'], inplace=True)\n",
    "\n",
    "# View updated dataframe\n",
    "df.head()"
   ]
  },
  {
   "cell_type": "markdown",
   "id": "6d877c31",
   "metadata": {},
   "source": [
    "## ⚙️ Step 3: Scaling + Sequence Generation\n",
    "\n",
    "Here we'll normalize the data and create sequences for time series prediction."
   ]
  },
  {
   "cell_type": "code",
   "execution_count": 3,
   "id": "2db57959",
   "metadata": {},
   "outputs": [
    {
     "name": "stdout",
     "output_type": "stream",
     "text": [
      "Shape before filtering: (96453, 11), Shape after filtering: (96453, 11)\n"
     ]
    },
    {
     "name": "stderr",
     "output_type": "stream",
     "text": [
      "C:\\Users\\jpate\\AppData\\Local\\Temp\\ipykernel_19532\\409714374.py:22: FutureWarning: Series.__getitem__ treating keys as positions is deprecated. In a future version, integer keys will always be treated as labels (consistent with DataFrame behavior). To access a value by position, use `ser.iloc[pos]`\n",
      "  y.append(scaled_df.iloc[i][feature_cols.index(target_col)])\n"
     ]
    },
    {
     "name": "stdout",
     "output_type": "stream",
     "text": [
      "Shape of X: (96429, 24, 11)\n",
      "Shape of y: (96429,)\n"
     ]
    }
   ],
   "source": [
    "# Ensure we have only numeric data before scaling\n",
    "numeric_df = df.select_dtypes(include=['number'])\n",
    "print(f\"Shape before filtering: {df.shape}, Shape after filtering: {numeric_df.shape}\")\n",
    "\n",
    "# Feature columns and target\n",
    "feature_cols = numeric_df.columns.tolist()\n",
    "target_col = 'Temperature (C)'\n",
    "\n",
    "# Normalize the data\n",
    "scaler = MinMaxScaler()\n",
    "scaled_data = scaler.fit_transform(numeric_df)\n",
    "\n",
    "# Convert back to DataFrame for readability\n",
    "scaled_df = pd.DataFrame(scaled_data, columns=feature_cols)\n",
    "\n",
    "# Create sequences: 24 past hours -> 1 future hour temperature\n",
    "sequence_length = 24\n",
    "X, y = [], []\n",
    "\n",
    "for i in range(sequence_length, len(scaled_df)):\n",
    "    X.append(scaled_df.iloc[i-sequence_length:i].values)\n",
    "    y.append(scaled_df.iloc[i][feature_cols.index(target_col)])\n",
    "\n",
    "X, y = np.array(X), np.array(y)\n",
    "\n",
    "print(\"Shape of X:\", X.shape)  # (samples, time_steps, features)\n",
    "print(\"Shape of y:\", y.shape)"
   ]
  },
  {
   "cell_type": "markdown",
   "id": "379b80ea",
   "metadata": {},
   "source": [
    "## 🧪 Step 4: Train-Validation-Test Split\n",
    "- We'll split the data:\n",
    "\n",
    "1. *`70% Training`*\n",
    "2. *`15% Validation`*\n",
    "3. *`15% Testing`*"
   ]
  },
  {
   "cell_type": "code",
   "execution_count": 4,
   "id": "777f8d1e",
   "metadata": {},
   "outputs": [
    {
     "name": "stdout",
     "output_type": "stream",
     "text": [
      "Training set: (67497, 24, 11) (67497,)\n",
      "Validation set: (14467, 24, 11) (14467,)\n",
      "Test set: (14465, 24, 11) (14465,)\n"
     ]
    }
   ],
   "source": [
    "# Train (70%) | Val (15%) | Test (15%) split\n",
    "X_temp, X_test, y_temp, y_test = train_test_split(X, y, test_size=0.15, shuffle=False)\n",
    "X_train, X_val, y_train, y_val = train_test_split(X_temp, y_temp, test_size=0.1765, shuffle=False)  # 0.1765 of 85% ≈ 15%\n",
    "\n",
    "print(\"Training set:\", X_train.shape, y_train.shape)\n",
    "print(\"Validation set:\", X_val.shape, y_val.shape)\n",
    "print(\"Test set:\", X_test.shape, y_test.shape)"
   ]
  },
  {
   "cell_type": "markdown",
   "id": "c7b49e28",
   "metadata": {},
   "source": [
    "## 🧠 Step 5: CNN-BiLSTM Model Architecture\n",
    "1. Use `Conv1D + MaxPooling1D` to capture `short-term patterns`\n",
    "2. Feed that into `Bidirectional LSTM` for `temporal context`\n",
    "3. Output a single temperature value"
   ]
  },
  {
   "cell_type": "code",
   "execution_count": 5,
   "id": "f40c45bc",
   "metadata": {},
   "outputs": [
    {
     "name": "stderr",
     "output_type": "stream",
     "text": [
      "C:\\Users\\jpate\\AppData\\Roaming\\Python\\Python312\\site-packages\\keras\\src\\layers\\convolutional\\base_conv.py:107: UserWarning: Do not pass an `input_shape`/`input_dim` argument to a layer. When using Sequential models, prefer using an `Input(shape)` object as the first layer in the model instead.\n",
      "  super().__init__(activity_regularizer=activity_regularizer, **kwargs)\n"
     ]
    },
    {
     "data": {
      "text/html": [
       "<pre style=\"white-space:pre;overflow-x:auto;line-height:normal;font-family:Menlo,'DejaVu Sans Mono',consolas,'Courier New',monospace\"><span style=\"font-weight: bold\">Model: \"sequential\"</span>\n",
       "</pre>\n"
      ],
      "text/plain": [
       "\u001b[1mModel: \"sequential\"\u001b[0m\n"
      ]
     },
     "metadata": {},
     "output_type": "display_data"
    },
    {
     "data": {
      "text/html": [
       "<pre style=\"white-space:pre;overflow-x:auto;line-height:normal;font-family:Menlo,'DejaVu Sans Mono',consolas,'Courier New',monospace\">┏━━━━━━━━━━━━━━━━━━━━━━━━━━━━┳━━━━━━━━━━━━━━━━━━━━━┳━━━━━━━━━━━━━┓\n",
       "┃<span style=\"font-weight: bold\"> Layer (type)               </span>┃<span style=\"font-weight: bold\"> Output Shape        </span>┃<span style=\"font-weight: bold\">     Param # </span>┃\n",
       "┡━━━━━━━━━━━━━━━━━━━━━━━━━━━━╇━━━━━━━━━━━━━━━━━━━━━╇━━━━━━━━━━━━━┩\n",
       "│ conv1d (<span style=\"color: #0087ff; text-decoration-color: #0087ff\">Conv1D</span>)            │ (<span style=\"color: #00d7ff; text-decoration-color: #00d7ff\">None</span>, <span style=\"color: #00af00; text-decoration-color: #00af00\">22</span>, <span style=\"color: #00af00; text-decoration-color: #00af00\">64</span>)      │       <span style=\"color: #00af00; text-decoration-color: #00af00\">2,176</span> │\n",
       "├────────────────────────────┼─────────────────────┼─────────────┤\n",
       "│ max_pooling1d              │ (<span style=\"color: #00d7ff; text-decoration-color: #00d7ff\">None</span>, <span style=\"color: #00af00; text-decoration-color: #00af00\">11</span>, <span style=\"color: #00af00; text-decoration-color: #00af00\">64</span>)      │           <span style=\"color: #00af00; text-decoration-color: #00af00\">0</span> │\n",
       "│ (<span style=\"color: #0087ff; text-decoration-color: #0087ff\">MaxPooling1D</span>)             │                     │             │\n",
       "├────────────────────────────┼─────────────────────┼─────────────┤\n",
       "│ bidirectional              │ (<span style=\"color: #00d7ff; text-decoration-color: #00d7ff\">None</span>, <span style=\"color: #00af00; text-decoration-color: #00af00\">128</span>)         │      <span style=\"color: #00af00; text-decoration-color: #00af00\">66,048</span> │\n",
       "│ (<span style=\"color: #0087ff; text-decoration-color: #0087ff\">Bidirectional</span>)            │                     │             │\n",
       "├────────────────────────────┼─────────────────────┼─────────────┤\n",
       "│ dropout (<span style=\"color: #0087ff; text-decoration-color: #0087ff\">Dropout</span>)          │ (<span style=\"color: #00d7ff; text-decoration-color: #00d7ff\">None</span>, <span style=\"color: #00af00; text-decoration-color: #00af00\">128</span>)         │           <span style=\"color: #00af00; text-decoration-color: #00af00\">0</span> │\n",
       "├────────────────────────────┼─────────────────────┼─────────────┤\n",
       "│ dense (<span style=\"color: #0087ff; text-decoration-color: #0087ff\">Dense</span>)              │ (<span style=\"color: #00d7ff; text-decoration-color: #00d7ff\">None</span>, <span style=\"color: #00af00; text-decoration-color: #00af00\">32</span>)          │       <span style=\"color: #00af00; text-decoration-color: #00af00\">4,128</span> │\n",
       "├────────────────────────────┼─────────────────────┼─────────────┤\n",
       "│ dense_1 (<span style=\"color: #0087ff; text-decoration-color: #0087ff\">Dense</span>)            │ (<span style=\"color: #00d7ff; text-decoration-color: #00d7ff\">None</span>, <span style=\"color: #00af00; text-decoration-color: #00af00\">1</span>)           │          <span style=\"color: #00af00; text-decoration-color: #00af00\">33</span> │\n",
       "└────────────────────────────┴─────────────────────┴─────────────┘\n",
       "</pre>\n"
      ],
      "text/plain": [
       "┏━━━━━━━━━━━━━━━━━━━━━━━━━━━━┳━━━━━━━━━━━━━━━━━━━━━┳━━━━━━━━━━━━━┓\n",
       "┃\u001b[1m \u001b[0m\u001b[1mLayer (type)              \u001b[0m\u001b[1m \u001b[0m┃\u001b[1m \u001b[0m\u001b[1mOutput Shape       \u001b[0m\u001b[1m \u001b[0m┃\u001b[1m \u001b[0m\u001b[1m    Param #\u001b[0m\u001b[1m \u001b[0m┃\n",
       "┡━━━━━━━━━━━━━━━━━━━━━━━━━━━━╇━━━━━━━━━━━━━━━━━━━━━╇━━━━━━━━━━━━━┩\n",
       "│ conv1d (\u001b[38;5;33mConv1D\u001b[0m)            │ (\u001b[38;5;45mNone\u001b[0m, \u001b[38;5;34m22\u001b[0m, \u001b[38;5;34m64\u001b[0m)      │       \u001b[38;5;34m2,176\u001b[0m │\n",
       "├────────────────────────────┼─────────────────────┼─────────────┤\n",
       "│ max_pooling1d              │ (\u001b[38;5;45mNone\u001b[0m, \u001b[38;5;34m11\u001b[0m, \u001b[38;5;34m64\u001b[0m)      │           \u001b[38;5;34m0\u001b[0m │\n",
       "│ (\u001b[38;5;33mMaxPooling1D\u001b[0m)             │                     │             │\n",
       "├────────────────────────────┼─────────────────────┼─────────────┤\n",
       "│ bidirectional              │ (\u001b[38;5;45mNone\u001b[0m, \u001b[38;5;34m128\u001b[0m)         │      \u001b[38;5;34m66,048\u001b[0m │\n",
       "│ (\u001b[38;5;33mBidirectional\u001b[0m)            │                     │             │\n",
       "├────────────────────────────┼─────────────────────┼─────────────┤\n",
       "│ dropout (\u001b[38;5;33mDropout\u001b[0m)          │ (\u001b[38;5;45mNone\u001b[0m, \u001b[38;5;34m128\u001b[0m)         │           \u001b[38;5;34m0\u001b[0m │\n",
       "├────────────────────────────┼─────────────────────┼─────────────┤\n",
       "│ dense (\u001b[38;5;33mDense\u001b[0m)              │ (\u001b[38;5;45mNone\u001b[0m, \u001b[38;5;34m32\u001b[0m)          │       \u001b[38;5;34m4,128\u001b[0m │\n",
       "├────────────────────────────┼─────────────────────┼─────────────┤\n",
       "│ dense_1 (\u001b[38;5;33mDense\u001b[0m)            │ (\u001b[38;5;45mNone\u001b[0m, \u001b[38;5;34m1\u001b[0m)           │          \u001b[38;5;34m33\u001b[0m │\n",
       "└────────────────────────────┴─────────────────────┴─────────────┘\n"
      ]
     },
     "metadata": {},
     "output_type": "display_data"
    },
    {
     "data": {
      "text/html": [
       "<pre style=\"white-space:pre;overflow-x:auto;line-height:normal;font-family:Menlo,'DejaVu Sans Mono',consolas,'Courier New',monospace\"><span style=\"font-weight: bold\"> Total params: </span><span style=\"color: #00af00; text-decoration-color: #00af00\">72,385</span> (282.75 KB)\n",
       "</pre>\n"
      ],
      "text/plain": [
       "\u001b[1m Total params: \u001b[0m\u001b[38;5;34m72,385\u001b[0m (282.75 KB)\n"
      ]
     },
     "metadata": {},
     "output_type": "display_data"
    },
    {
     "data": {
      "text/html": [
       "<pre style=\"white-space:pre;overflow-x:auto;line-height:normal;font-family:Menlo,'DejaVu Sans Mono',consolas,'Courier New',monospace\"><span style=\"font-weight: bold\"> Trainable params: </span><span style=\"color: #00af00; text-decoration-color: #00af00\">72,385</span> (282.75 KB)\n",
       "</pre>\n"
      ],
      "text/plain": [
       "\u001b[1m Trainable params: \u001b[0m\u001b[38;5;34m72,385\u001b[0m (282.75 KB)\n"
      ]
     },
     "metadata": {},
     "output_type": "display_data"
    },
    {
     "data": {
      "text/html": [
       "<pre style=\"white-space:pre;overflow-x:auto;line-height:normal;font-family:Menlo,'DejaVu Sans Mono',consolas,'Courier New',monospace\"><span style=\"font-weight: bold\"> Non-trainable params: </span><span style=\"color: #00af00; text-decoration-color: #00af00\">0</span> (0.00 B)\n",
       "</pre>\n"
      ],
      "text/plain": [
       "\u001b[1m Non-trainable params: \u001b[0m\u001b[38;5;34m0\u001b[0m (0.00 B)\n"
      ]
     },
     "metadata": {},
     "output_type": "display_data"
    },
    {
     "name": "stdout",
     "output_type": "stream",
     "text": [
      "Epoch 1/30\n",
      "\u001b[1m1055/1055\u001b[0m \u001b[32m━━━━━━━━━━━━━━━━━━━━\u001b[0m\u001b[37m\u001b[0m \u001b[1m21s\u001b[0m 12ms/step - loss: 0.0197 - val_loss: 0.0011\n",
      "Epoch 2/30\n",
      "\u001b[1m1055/1055\u001b[0m \u001b[32m━━━━━━━━━━━━━━━━━━━━\u001b[0m\u001b[37m\u001b[0m \u001b[1m12s\u001b[0m 11ms/step - loss: 0.0018 - val_loss: 6.9156e-04\n",
      "Epoch 3/30\n",
      "\u001b[1m1055/1055\u001b[0m \u001b[32m━━━━━━━━━━━━━━━━━━━━\u001b[0m\u001b[37m\u001b[0m \u001b[1m12s\u001b[0m 11ms/step - loss: 0.0012 - val_loss: 9.3963e-04\n",
      "Epoch 4/30\n",
      "\u001b[1m1055/1055\u001b[0m \u001b[32m━━━━━━━━━━━━━━━━━━━━\u001b[0m\u001b[37m\u001b[0m \u001b[1m13s\u001b[0m 12ms/step - loss: 9.4142e-04 - val_loss: 5.0320e-04\n",
      "Epoch 5/30\n",
      "\u001b[1m1055/1055\u001b[0m \u001b[32m━━━━━━━━━━━━━━━━━━━━\u001b[0m\u001b[37m\u001b[0m \u001b[1m13s\u001b[0m 12ms/step - loss: 8.3367e-04 - val_loss: 6.0162e-04\n",
      "Epoch 6/30\n",
      "\u001b[1m1055/1055\u001b[0m \u001b[32m━━━━━━━━━━━━━━━━━━━━\u001b[0m\u001b[37m\u001b[0m \u001b[1m13s\u001b[0m 12ms/step - loss: 7.7770e-04 - val_loss: 5.4092e-04\n",
      "Epoch 7/30\n",
      "\u001b[1m1055/1055\u001b[0m \u001b[32m━━━━━━━━━━━━━━━━━━━━\u001b[0m\u001b[37m\u001b[0m \u001b[1m17s\u001b[0m 16ms/step - loss: 7.3440e-04 - val_loss: 4.8240e-04\n",
      "Epoch 8/30\n",
      "\u001b[1m1055/1055\u001b[0m \u001b[32m━━━━━━━━━━━━━━━━━━━━\u001b[0m\u001b[37m\u001b[0m \u001b[1m18s\u001b[0m 14ms/step - loss: 6.7785e-04 - val_loss: 5.1985e-04\n",
      "Epoch 9/30\n",
      "\u001b[1m1055/1055\u001b[0m \u001b[32m━━━━━━━━━━━━━━━━━━━━\u001b[0m\u001b[37m\u001b[0m \u001b[1m14s\u001b[0m 13ms/step - loss: 6.8233e-04 - val_loss: 4.4573e-04\n",
      "Epoch 10/30\n",
      "\u001b[1m1055/1055\u001b[0m \u001b[32m━━━━━━━━━━━━━━━━━━━━\u001b[0m\u001b[37m\u001b[0m \u001b[1m14s\u001b[0m 14ms/step - loss: 6.5264e-04 - val_loss: 6.2624e-04\n",
      "Epoch 11/30\n",
      "\u001b[1m1055/1055\u001b[0m \u001b[32m━━━━━━━━━━━━━━━━━━━━\u001b[0m\u001b[37m\u001b[0m \u001b[1m14s\u001b[0m 13ms/step - loss: 6.2569e-04 - val_loss: 3.8156e-04\n",
      "Epoch 12/30\n",
      "\u001b[1m1055/1055\u001b[0m \u001b[32m━━━━━━━━━━━━━━━━━━━━\u001b[0m\u001b[37m\u001b[0m \u001b[1m14s\u001b[0m 13ms/step - loss: 5.9406e-04 - val_loss: 3.7858e-04\n",
      "Epoch 13/30\n",
      "\u001b[1m1055/1055\u001b[0m \u001b[32m━━━━━━━━━━━━━━━━━━━━\u001b[0m\u001b[37m\u001b[0m \u001b[1m15s\u001b[0m 14ms/step - loss: 5.8519e-04 - val_loss: 6.3356e-04\n",
      "Epoch 14/30\n",
      "\u001b[1m1055/1055\u001b[0m \u001b[32m━━━━━━━━━━━━━━━━━━━━\u001b[0m\u001b[37m\u001b[0m \u001b[1m18s\u001b[0m 17ms/step - loss: 5.8806e-04 - val_loss: 3.6721e-04\n",
      "Epoch 15/30\n",
      "\u001b[1m1055/1055\u001b[0m \u001b[32m━━━━━━━━━━━━━━━━━━━━\u001b[0m\u001b[37m\u001b[0m \u001b[1m28s\u001b[0m 26ms/step - loss: 5.5355e-04 - val_loss: 3.4543e-04\n",
      "Epoch 16/30\n",
      "\u001b[1m1055/1055\u001b[0m \u001b[32m━━━━━━━━━━━━━━━━━━━━\u001b[0m\u001b[37m\u001b[0m \u001b[1m23s\u001b[0m 22ms/step - loss: 5.6482e-04 - val_loss: 3.4313e-04\n",
      "Epoch 17/30\n",
      "\u001b[1m1055/1055\u001b[0m \u001b[32m━━━━━━━━━━━━━━━━━━━━\u001b[0m\u001b[37m\u001b[0m \u001b[1m26s\u001b[0m 24ms/step - loss: 5.3558e-04 - val_loss: 4.8922e-04\n",
      "Epoch 18/30\n",
      "\u001b[1m1055/1055\u001b[0m \u001b[32m━━━━━━━━━━━━━━━━━━━━\u001b[0m\u001b[37m\u001b[0m \u001b[1m20s\u001b[0m 19ms/step - loss: 5.4011e-04 - val_loss: 3.8260e-04\n",
      "Epoch 19/30\n",
      "\u001b[1m1055/1055\u001b[0m \u001b[32m━━━━━━━━━━━━━━━━━━━━\u001b[0m\u001b[37m\u001b[0m \u001b[1m21s\u001b[0m 20ms/step - loss: 5.3330e-04 - val_loss: 4.2673e-04\n",
      "Epoch 20/30\n",
      "\u001b[1m1055/1055\u001b[0m \u001b[32m━━━━━━━━━━━━━━━━━━━━\u001b[0m\u001b[37m\u001b[0m \u001b[1m16s\u001b[0m 15ms/step - loss: 5.0989e-04 - val_loss: 5.7686e-04\n",
      "Epoch 21/30\n",
      "\u001b[1m1055/1055\u001b[0m \u001b[32m━━━━━━━━━━━━━━━━━━━━\u001b[0m\u001b[37m\u001b[0m \u001b[1m15s\u001b[0m 14ms/step - loss: 5.2184e-04 - val_loss: 5.3536e-04\n"
     ]
    }
   ],
   "source": [
    "# Define the CNN-BiLSTM model\n",
    "model = Sequential([\n",
    "    Conv1D(filters=64, kernel_size=3, activation='relu', input_shape=(X_train.shape[1], X_train.shape[2])),\n",
    "    MaxPooling1D(pool_size=2),\n",
    "    Bidirectional(LSTM(64, return_sequences=False)),\n",
    "    Dropout(0.3),\n",
    "    Dense(32, activation='relu'),\n",
    "    Dense(1)\n",
    "])\n",
    "\n",
    "model.compile(optimizer='adam', loss='mse')\n",
    "model.summary()\n",
    "\n",
    "# Train the model\n",
    "early_stop = EarlyStopping(monitor='val_loss', patience=5, restore_best_weights=True)\n",
    "\n",
    "history = model.fit(\n",
    "    X_train, y_train,\n",
    "    epochs=30,\n",
    "    batch_size=64,\n",
    "    validation_data=(X_val, y_val),\n",
    "    callbacks=[early_stop],\n",
    "    verbose=1\n",
    ")"
   ]
  },
  {
   "cell_type": "markdown",
   "id": "7df2b89f",
   "metadata": {},
   "source": [
    "## 📈 Step 6: Visualize Training Progress\n",
    "\n",
    "Let's visualize the training and validation loss to understand how our model learned."
   ]
  },
  {
   "cell_type": "code",
   "execution_count": 6,
   "id": "4aec402e",
   "metadata": {},
   "outputs": [
    {
     "data": {
      "image/png": "[encoded data removed]",
      "text/plain": [
       "<Figure size 1000x600 with 1 Axes>"
      ]
     },
     "metadata": {},
     "output_type": "display_data"
    }
   ],
   "source": [
    "# Plot training & validation loss values\n",
    "plt.figure(figsize=(10, 6))\n",
    "plt.plot(history.history['loss'], label='Training Loss')\n",
    "plt.plot(history.history['val_loss'], label='Validation Loss')\n",
    "plt.title('Model Loss')\n",
    "plt.ylabel('Loss (MSE)')\n",
    "plt.xlabel('Epoch')\n",
    "plt.legend()\n",
    "plt.grid(True)\n",
    "plt.show()"
   ]
  },
  {
   "cell_type": "markdown",
   "id": "61bf43fa",
   "metadata": {},
   "source": [
    "## ✅ Step 7: Evaluation & Predictions on Test Set\n",
    "- Evaluate the model\n",
    "- Invert scaling to get back actual temperature values\n",
    "- Plot actual vs predicted values"
   ]
  },
  {
   "cell_type": "code",
   "execution_count": 7,
   "id": "042dc52a",
   "metadata": {},
   "outputs": [
    {
     "name": "stdout",
     "output_type": "stream",
     "text": [
      "\u001b[1m453/453\u001b[0m \u001b[32m━━━━━━━━━━━━━━━━━━━━\u001b[0m\u001b[37m\u001b[0m \u001b[1m3s\u001b[0m 5ms/step\n"
     ]
    },
    {
     "data": {
      "image/png": "[encoded data removed]",
      "text/plain": [
       "<Figure size 1200x500 with 1 Axes>"
      ]
     },
     "metadata": {},
     "output_type": "display_data"
    }
   ],
   "source": [
    "# Predict on test set\n",
    "y_pred_scaled = model.predict(X_test)\n",
    "\n",
    "# Create a temperature scaler for inverse transform\n",
    "temp_index = feature_cols.index('Temperature (C)')\n",
    "temp_scaler = MinMaxScaler()\n",
    "temp_scaler.min_ = np.array([scaler.min_[temp_index]])\n",
    "temp_scaler.scale_ = np.array([scaler.scale_[temp_index]])\n",
    "temp_scaler.data_min_ = np.array([scaler.data_min_[temp_index]])\n",
    "temp_scaler.data_max_ = np.array([scaler.data_max_[temp_index]])\n",
    "\n",
    "# Shape y_test for inverse transform\n",
    "y_test_reshaped = y_test.reshape(-1, 1)\n",
    "\n",
    "# Inverse transform predictions and actual values\n",
    "y_pred_actual = temp_scaler.inverse_transform(y_pred_scaled)\n",
    "y_test_actual = temp_scaler.inverse_transform(y_test_reshaped)\n",
    "\n",
    "# Plot predictions vs actual (first 100 time steps for clarity)\n",
    "plt.figure(figsize=(12, 5))\n",
    "plt.plot(y_test_actual[:100], label=\"Actual Temperature\")\n",
    "plt.plot(y_pred_actual[:100], label=\"Predicted Temperature\")\n",
    "plt.title(\"Actual vs Predicted Temperature\")\n",
    "plt.xlabel(\"Time Steps (Hours)\")\n",
    "plt.ylabel(\"Temperature (°C)\")\n",
    "plt.legend()\n",
    "plt.grid(True)\n",
    "plt.show()"
   ]
  },
  {
   "cell_type": "markdown",
   "id": "045ab2b3",
   "metadata": {},
   "source": [
    "## 📊 Step 8: Calculate Evaluation Metrics\n",
    "\n",
    "Let's calculate standard evaluation metrics for our regression model."
   ]
  },
  {
   "cell_type": "code",
   "execution_count": 8,
   "id": "738d3af6",
   "metadata": {},
   "outputs": [
    {
     "name": "stdout",
     "output_type": "stream",
     "text": [
      "Test MSE: 1.1580\n",
      "Test RMSE: 1.0761\n",
      "Test MAE: 0.7146\n"
     ]
    }
   ],
   "source": [
    "# Calculate evaluation metrics\n",
    "mse = mean_squared_error(y_test_actual, y_pred_actual)\n",
    "rmse = np.sqrt(mse)\n",
    "mae = mean_absolute_error(y_test_actual, y_pred_actual)\n",
    "\n",
    "print(f\"Test MSE: {mse:.4f}\")\n",
    "print(f\"Test RMSE: {rmse:.4f}\")\n",
    "print(f\"Test MAE: {mae:.4f}\")"
   ]
  },
  {
   "cell_type": "markdown",
   "id": "2a1b3627",
   "metadata": {},
   "source": [
    "## 🌡️ Step 9: User Input Prediction Function\n",
    "\n",
    "Let's create a function that allows us to predict temperature for a specific date/time.\n",
    "This new implementation properly handles data types to avoid the timestamp-related error."
   ]
  },
  {
   "cell_type": "code",
   "execution_count": 9,
   "id": "5f715cbb",
   "metadata": {},
   "outputs": [],
   "source": [
    "def predict_temperature_user_input(model, df_original, scaler, feature_cols):\n",
    "    try:\n",
    "        # Step 1: Take user input\n",
    "        year = int(input(\"Enter year (e.g., 2016): \"))\n",
    "        month = int(input(\"Enter month (1-12): \"))\n",
    "        day = int(input(\"Enter day (1-31): \"))\n",
    "        hour = int(input(\"Enter hour (0-23): \"))\n",
    "        \n",
    "        # Step 2: Create a dataframe for input with all features\n",
    "        # First clone the original df to get the structure\n",
    "        input_df = df_original.copy()\n",
    "        \n",
    "        # Step 3: Filter to get the 24 hours before the requested time\n",
    "        # Recreate the Formatted Date column for filtering\n",
    "        input_df['Formatted Date'] = pd.to_datetime(\n",
    "            input_df[['Year', 'Month', 'Day', 'Hour']].assign(minute=0, second=0))\n",
    "        input_time = pd.Timestamp(year=year, month=month, day=day, hour=hour)\n",
    "        start_time = input_time - pd.Timedelta(hours=24)\n",
    "        \n",
    "        # Filter data for the previous 24 hours\n",
    "        mask = (input_df['Formatted Date'] >= start_time) & (input_df['Formatted Date'] < input_time)\n",
    "        input_data = input_df.loc[mask]\n",
    "        \n",
    "        if len(input_data) < 24:\n",
    "            print(\"❗ Not enough historical data to make a prediction (need full 24 hours).\")\n",
    "            return None\n",
    "        \n",
    "        # Prepare input data (match the format used during training)\n",
    "        input_data.drop(columns=['Formatted Date'], inplace=True)\n",
    "        \n",
    "        # Make sure we only use numeric columns that match feature_cols\n",
    "        input_data = input_data[feature_cols]\n",
    "        \n",
    "        # Scale the input data\n",
    "        scaled_input = scaler.transform(input_data.tail(24))\n",
    "        X_input = np.expand_dims(scaled_input, axis=0)  # Shape: (1, 24, features)\n",
    "        \n",
    "        # Make prediction\n",
    "        y_pred_scaled = model.predict(X_input, verbose=0)\n",
    "        \n",
    "        # Create temperature scaler for inverse transform\n",
    "        temp_index = feature_cols.index('Temperature (C)')\n",
    "        temp_scaler = MinMaxScaler()\n",
    "        temp_scaler.min_ = np.array([scaler.min_[temp_index]])\n",
    "        temp_scaler.scale_ = np.array([scaler.scale_[temp_index]])\n",
    "        temp_scaler.data_min_ = np.array([scaler.data_min_[temp_index]])\n",
    "        temp_scaler.data_max_ = np.array([scaler.data_max_[temp_index]])\n",
    "        \n",
    "        # Convert prediction back to original scale\n",
    "        predicted_temp = temp_scaler.inverse_transform(y_pred_scaled)[0][0]\n",
    "        \n",
    "        print(f\"\\n🌡️ Predicted Temperature for {input_time.strftime('%Y-%m-%d %H:%M')} is: {predicted_temp:.2f}°C\")\n",
    "        return predicted_temp\n",
    "        \n",
    "    except Exception as e:\n",
    "        print(\"❌ Error in prediction:\", str(e))\n",
    "        return None"
   ]
  },
  {
   "cell_type": "markdown",
   "id": "f62195b3",
   "metadata": {},
   "source": [
    "## 🧪 Step 10: Test Prediction Function\n",
    "\n",
    "Now let's test our prediction function with user input. We need to recreate the Formatted Date column temporarily just for the prediction function."
   ]
  },
  {
   "cell_type": "code",
   "execution_count": 10,
   "id": "dabdccc9",
   "metadata": {},
   "outputs": [
    {
     "name": "stdin",
     "output_type": "stream",
     "text": [
      "Enter year (e.g., 2016):  2010\n",
      "Enter month (1-12):  10\n",
      "Enter day (1-31):  5\n",
      "Enter hour (0-23):  10\n"
     ]
    },
    {
     "name": "stdout",
     "output_type": "stream",
     "text": [
      "\n",
      "🌡️ Predicted Temperature for 2010-10-05 10:00 is: 13.45°C\n"
     ]
    },
    {
     "name": "stderr",
     "output_type": "stream",
     "text": [
      "C:\\Users\\jpate\\AppData\\Local\\Temp\\ipykernel_19532\\2637354567.py:29: SettingWithCopyWarning: \n",
      "A value is trying to be set on a copy of a slice from a DataFrame\n",
      "\n",
      "See the caveats in the documentation: https://pandas.pydata.org/pandas-docs/stable/user_guide/indexing.html#returning-a-view-versus-a-copy\n",
      "  input_data.drop(columns=['Formatted Date'], inplace=True)\n"
     ]
    },
    {
     "data": {
      "text/plain": [
       "np.float32(13.447826)"
      ]
     },
     "execution_count": 10,
     "metadata": {},
     "output_type": "execute_result"
    }
   ],
   "source": [
    "# First recreate the original dataframe with the Formatted Date for prediction\n",
    "df_with_date = pd.read_csv(path)\n",
    "df_with_date['Formatted Date'] = pd.to_datetime(df_with_date['Formatted Date'], utc=True)\n",
    "df_with_date['Year'] = df_with_date['Formatted Date'].dt.year\n",
    "df_with_date['Month'] = df_with_date['Formatted Date'].dt.month\n",
    "df_with_date['Day'] = df_with_date['Formatted Date'].dt.day\n",
    "df_with_date['Hour'] = df_with_date['Formatted Date'].dt.hour\n",
    "\n",
    "# Drop unnecessary columns\n",
    "columns_to_drop = ['Summary', 'Precip Type', 'Daily Summary', 'Loud Cover']\n",
    "df_with_date.drop(columns=[col for col in columns_to_drop if col in df_with_date.columns], inplace=True)\n",
    "\n",
    "# Call the function with all required parameters \n",
    "predict_temperature_user_input(model=model, \n",
    "                             df_original=df_with_date,\n",
    "                             scaler=scaler,\n",
    "                             feature_cols=feature_cols)"
   ]
  },
  {
   "cell_type": "markdown",
   "id": "aac0c8ac",
   "metadata": {},
   "source": [
    "## 💾 Step 11: Save the Model\n",
    "\n",
    "Finally, let's save our model for future use."
   ]
  },
  {
   "cell_type": "code",
   "execution_count": 11,
   "id": "8e5c8e6c",
   "metadata": {},
   "outputs": [
    {
     "name": "stdout",
     "output_type": "stream",
     "text": [
      "Model saved as 'weather_temp_predictor.keras'\n",
      "Model successfully loaded!\n"
     ]
    }
   ],
   "source": [
    "# Save the model\n",
    "model.save(\"weather_temp_predictor.keras\")\n",
    "print(\"Model saved as 'weather_temp_predictor.keras'\")\n",
    "\n",
    "# Demonstration of how to load the model later\n",
    "loaded_model = load_model(\"weather_temp_predictor.keras\")\n",
    "print(\"Model successfully loaded!\")"
   ]
  },
  {
   "cell_type": "markdown",
   "id": "79052667",
   "metadata": {},
   "source": [
    "## 🧪 Step 12: Verify Loaded Model\n",
    "\n",
    "Let's verify that our loaded model works correctly by making a prediction with it."
   ]
  },
  {
   "cell_type": "code",
   "execution_count": 12,
   "id": "efc92bf6",
   "metadata": {},
   "outputs": [
    {
     "name": "stdin",
     "output_type": "stream",
     "text": [
      "Enter year (e.g., 2016):  2008\n",
      "Enter month (1-12):  10\n",
      "Enter day (1-31):  5\n",
      "Enter hour (0-23):  10\n"
     ]
    },
    {
     "name": "stderr",
     "output_type": "stream",
     "text": [
      "C:\\Users\\jpate\\AppData\\Local\\Temp\\ipykernel_19532\\2637354567.py:29: SettingWithCopyWarning: \n",
      "A value is trying to be set on a copy of a slice from a DataFrame\n",
      "\n",
      "See the caveats in the documentation: https://pandas.pydata.org/pandas-docs/stable/user_guide/indexing.html#returning-a-view-versus-a-copy\n",
      "  input_data.drop(columns=['Formatted Date'], inplace=True)\n"
     ]
    },
    {
     "name": "stdout",
     "output_type": "stream",
     "text": [
      "\n",
      "🌡️ Predicted Temperature for 2008-10-05 10:00 is: 10.88°C\n"
     ]
    },
    {
     "data": {
      "text/plain": [
       "np.float32(10.884977)"
      ]
     },
     "execution_count": 12,
     "metadata": {},
     "output_type": "execute_result"
    }
   ],
   "source": [
    "# Test the loaded model with the same prediction function\n",
    "predict_temperature_user_input(model=loaded_model, \n",
    "                             df_original=df_with_date,\n",
    "                             scaler=scaler,\n",
    "                             feature_cols=feature_cols)"
   ]
  }
 ],
 "metadata": {
  "kernelspec": {
   "display_name": "Python 3 (ipykernel)",
   "language": "python",
   "name": "python3"
  },
  "language_info": {
   "codemirror_mode": {
    "name": "ipython",
    "version": 3
   },
   "file_extension": ".py",
   "mimetype": "text/x-python",
   "name": "python",
   "nbconvert_exporter": "python",
   "pygments_lexer": "ipython3",
   "version": "3.12.3"
  }
 },
 "nbformat": 4,
 "nbformat_minor": 5
}
